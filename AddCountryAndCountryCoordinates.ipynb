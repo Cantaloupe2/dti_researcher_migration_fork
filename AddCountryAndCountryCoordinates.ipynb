{
 "cells": [
  {
   "cell_type": "markdown",
   "id": "048663de",
   "metadata": {},
   "source": [
    "# Description"
   ]
  },
  {
   "cell_type": "markdown",
   "id": "887068ff",
   "metadata": {},
   "source": [
    " This jupyter notebook takes a dataframe with the coordinates of each affiliation. It then finds the corresponding country using geopandas for each entry. Finally, using geopandas once again, the notebook finds the latitude and longitude of the \"center\" of the country. All three lists of the newfound values are added to the dataframe as new columns."
   ]
  },
  {
   "cell_type": "markdown",
   "id": "c11849bc",
   "metadata": {},
   "source": [
    "# Necessary Installations and Imports"
   ]
  },
  {
   "cell_type": "code",
   "execution_count": null,
   "id": "89a9b042",
   "metadata": {},
   "outputs": [],
   "source": [
    "#pip install geopandas"
   ]
  },
  {
   "cell_type": "code",
   "execution_count": 64,
   "id": "841c957e",
   "metadata": {},
   "outputs": [],
   "source": [
    "import pandas as pd # standard import\n",
    "import geopandas as gpd #contains data about country boundaries and centers\n",
    "from shapely.geometry import Point"
   ]
  },
  {
   "cell_type": "markdown",
   "id": "226c7435",
   "metadata": {},
   "source": [
    "# Load And Modify Dataframe"
   ]
  },
  {
   "cell_type": "code",
   "execution_count": 60,
   "id": "452b1f96",
   "metadata": {},
   "outputs": [
    {
     "data": {
      "text/html": [
       "<div>\n",
       "<style scoped>\n",
       "    .dataframe tbody tr th:only-of-type {\n",
       "        vertical-align: middle;\n",
       "    }\n",
       "\n",
       "    .dataframe tbody tr th {\n",
       "        vertical-align: top;\n",
       "    }\n",
       "\n",
       "    .dataframe thead th {\n",
       "        text-align: right;\n",
       "    }\n",
       "</style>\n",
       "<table border=\"1\" class=\"dataframe\">\n",
       "  <thead>\n",
       "    <tr style=\"text-align: right;\">\n",
       "      <th></th>\n",
       "      <th>@path</th>\n",
       "      <th>title</th>\n",
       "      <th>abstract</th>\n",
       "      <th>author</th>\n",
       "      <th>aff</th>\n",
       "      <th>block</th>\n",
       "      <th>latitude</th>\n",
       "      <th>longitude</th>\n",
       "    </tr>\n",
       "  </thead>\n",
       "  <tbody>\n",
       "    <tr>\n",
       "      <th>0</th>\n",
       "      <td>/0000-0003-1178-1001</td>\n",
       "      <td>Class of ghost-free non-Abelian gauge theories</td>\n",
       "      <td>We discuss a class of non-Abelian gauge theori...</td>\n",
       "      <td>Frenkel, Josif</td>\n",
       "      <td>Instituto de Fisica, Universidade de São Paulo...</td>\n",
       "      <td>j.frenkel</td>\n",
       "      <td>-23.559998</td>\n",
       "      <td>-46.735252</td>\n",
       "    </tr>\n",
       "    <tr>\n",
       "      <th>2</th>\n",
       "      <td>/0000-0001-5974-7043</td>\n",
       "      <td>Weak nonleptonic decays of charmed hadrons in ...</td>\n",
       "      <td>We analyze the two-body weak nonleptonic decay...</td>\n",
       "      <td>Branco, G.</td>\n",
       "      <td>Department of Physics, The City College of the...</td>\n",
       "      <td>g.branco</td>\n",
       "      <td>40.820047</td>\n",
       "      <td>-73.949272</td>\n",
       "    </tr>\n",
       "    <tr>\n",
       "      <th>3</th>\n",
       "      <td>/0000-0003-2257-3080</td>\n",
       "      <td>Target asymmetry in inclusive photoproduction ...</td>\n",
       "      <td>We study the target asymmetry in inclusive pio...</td>\n",
       "      <td>Craigie, N. S.</td>\n",
       "      <td>CERN, Geneva, Switzerland</td>\n",
       "      <td>n.craigie</td>\n",
       "      <td>46.204391</td>\n",
       "      <td>6.143158</td>\n",
       "    </tr>\n",
       "    <tr>\n",
       "      <th>4</th>\n",
       "      <td>/0000-0003-2257-3080</td>\n",
       "      <td>A space-time description of quarks and hadrons</td>\n",
       "      <td>A more concrete formulation of the previously ...</td>\n",
       "      <td>Craigie, N. S.</td>\n",
       "      <td>CERN, Geneva, Switzerland</td>\n",
       "      <td>n.craigie</td>\n",
       "      <td>46.204391</td>\n",
       "      <td>6.143158</td>\n",
       "    </tr>\n",
       "    <tr>\n",
       "      <th>5</th>\n",
       "      <td>/0000-0001-9638-3082</td>\n",
       "      <td>Observation of spatial and temporal variations...</td>\n",
       "      <td>Observations of X-ray bright points (XBP) over...</td>\n",
       "      <td>Golub, L.</td>\n",
       "      <td>American Science and Engineering, Inc., Cambri...</td>\n",
       "      <td>l.golub</td>\n",
       "      <td>42.524182</td>\n",
       "      <td>-71.254940</td>\n",
       "    </tr>\n",
       "  </tbody>\n",
       "</table>\n",
       "</div>"
      ],
      "text/plain": [
       "                  @path                                              title  \\\n",
       "0  /0000-0003-1178-1001     Class of ghost-free non-Abelian gauge theories   \n",
       "2  /0000-0001-5974-7043  Weak nonleptonic decays of charmed hadrons in ...   \n",
       "3  /0000-0003-2257-3080  Target asymmetry in inclusive photoproduction ...   \n",
       "4  /0000-0003-2257-3080     A space-time description of quarks and hadrons   \n",
       "5  /0000-0001-9638-3082  Observation of spatial and temporal variations...   \n",
       "\n",
       "                                            abstract          author  \\\n",
       "0  We discuss a class of non-Abelian gauge theori...  Frenkel, Josif   \n",
       "2  We analyze the two-body weak nonleptonic decay...      Branco, G.   \n",
       "3  We study the target asymmetry in inclusive pio...  Craigie, N. S.   \n",
       "4  A more concrete formulation of the previously ...  Craigie, N. S.   \n",
       "5  Observations of X-ray bright points (XBP) over...       Golub, L.   \n",
       "\n",
       "                                                 aff      block   latitude  \\\n",
       "0  Instituto de Fisica, Universidade de São Paulo...  j.frenkel -23.559998   \n",
       "2  Department of Physics, The City College of the...   g.branco  40.820047   \n",
       "3                          CERN, Geneva, Switzerland  n.craigie  46.204391   \n",
       "4                          CERN, Geneva, Switzerland  n.craigie  46.204391   \n",
       "5  American Science and Engineering, Inc., Cambri...    l.golub  42.524182   \n",
       "\n",
       "   longitude  \n",
       "0 -46.735252  \n",
       "2 -73.949272  \n",
       "3   6.143158  \n",
       "4   6.143158  \n",
       "5 -71.254940  "
      ]
     },
     "metadata": {},
     "output_type": "display_data"
    }
   ],
   "source": [
    "df = pd.read_hdf(\"author_references_nov22nd_v3.h5\")\n",
    "display(df.head())"
   ]
  },
  {
   "cell_type": "markdown",
   "id": "a06d3198",
   "metadata": {},
   "source": [
    "We check how many na values are in latitude and longitude."
   ]
  },
  {
   "cell_type": "code",
   "execution_count": 61,
   "id": "c8af9971",
   "metadata": {},
   "outputs": [
    {
     "data": {
      "text/plain": [
       "@path             0\n",
       "title             0\n",
       "abstract          0\n",
       "author            0\n",
       "aff               0\n",
       "block             0\n",
       "latitude     398711\n",
       "longitude    398711\n",
       "dtype: int64"
      ]
     },
     "execution_count": 61,
     "metadata": {},
     "output_type": "execute_result"
    }
   ],
   "source": [
    "df.isna().sum()"
   ]
  },
  {
   "cell_type": "markdown",
   "id": "c44b2a91",
   "metadata": {},
   "source": [
    "We drop all na values and check that we have indeed gotten rid of them all"
   ]
  },
  {
   "cell_type": "code",
   "execution_count": 62,
   "id": "63caf3d1",
   "metadata": {},
   "outputs": [
    {
     "data": {
      "text/plain": [
       "@path        0\n",
       "title        0\n",
       "abstract     0\n",
       "author       0\n",
       "aff          0\n",
       "block        0\n",
       "latitude     0\n",
       "longitude    0\n",
       "dtype: int64"
      ]
     },
     "execution_count": 62,
     "metadata": {},
     "output_type": "execute_result"
    }
   ],
   "source": [
    "df2 = df.dropna()\n",
    "df2.isna().sum()"
   ]
  },
  {
   "cell_type": "markdown",
   "id": "196ae526",
   "metadata": {},
   "source": [
    "### Finding Country Name from Coordinates"
   ]
  },
  {
   "cell_type": "markdown",
   "id": "4becf8ee",
   "metadata": {},
   "source": [
    "We first create functions to find the country name."
   ]
  },
  {
   "cell_type": "code",
   "execution_count": 69,
   "id": "529af0c8",
   "metadata": {},
   "outputs": [
    {
     "name": "stderr",
     "output_type": "stream",
     "text": [
      "/tmp/ipykernel_534903/2515250890.py:2: FutureWarning: The geopandas.dataset module is deprecated and will be removed in GeoPandas 1.0. You can get the original 'naturalearth_lowres' data from https://www.naturalearthdata.com/downloads/110m-cultural-vectors/.\n",
      "  gdf_countries = gpd.read_file(gpd.datasets.get_path('naturalearth_lowres'))\n"
     ]
    }
   ],
   "source": [
    "# Download and load the Natural Earth countries dataset\n",
    "gdf_countries = gpd.read_file(gpd.datasets.get_path('naturalearth_lowres'))\n",
    "\n",
    "def get_country_name(latitude, longitude):\n",
    "    point = Point(longitude, latitude)\n",
    "    for index, country in gdf_countries.iterrows():\n",
    "        if point.within(country['geometry']):\n",
    "            return country['name']\n",
    "    return None\n",
    "\n",
    "# This function will get the country name for a specific row in df2 (the dataframe with na values dropped) \n",
    "def get_country_for_row(row):\n",
    "    return get_country_name(row['latitude'], row['longitude'])"
   ]
  },
  {
   "cell_type": "markdown",
   "id": "a320214d",
   "metadata": {},
   "source": [
    "We try the new function on coordinates in the Sanfrancisco"
   ]
  },
  {
   "cell_type": "code",
   "execution_count": 70,
   "id": "1750e5d9",
   "metadata": {},
   "outputs": [
    {
     "name": "stdout",
     "output_type": "stream",
     "text": [
      "The coordinates 37.7749, -122.4194 correspond to United States of America\n"
     ]
    }
   ],
   "source": [
    "# Example coordinates from sanfrancisco\n",
    "latitude = 37.7749\n",
    "longitude = -122.4194\n",
    "\n",
    "country_name = get_country_name(latitude, longitude)\n",
    "\n",
    "print(f\"The coordinates {latitude}, {longitude} correspond to {country_name}\")"
   ]
  },
  {
   "cell_type": "markdown",
   "id": "77e9cd3f",
   "metadata": {},
   "source": [
    "We will apply the function to the entire dataframe (df2). This cell takes several minutes to run."
   ]
  },
  {
   "cell_type": "code",
   "execution_count": null,
   "id": "aec3e321",
   "metadata": {},
   "outputs": [
    {
     "name": "stderr",
     "output_type": "stream",
     "text": [
      "/tmp/ipykernel_534903/1853878046.py:2: SettingWithCopyWarning: \n",
      "A value is trying to be set on a copy of a slice from a DataFrame.\n",
      "Try using .loc[row_indexer,col_indexer] = value instead\n",
      "\n",
      "See the caveats in the documentation: https://pandas.pydata.org/pandas-docs/stable/user_guide/indexing.html#returning-a-view-versus-a-copy\n",
      "  df2['country'] = None\n"
     ]
    }
   ],
   "source": [
    "# Create empty column to store country names\n",
    "df2['country'] = None\n",
    "\n",
    "# Apply the get country for row function to each row in the DataFrame\n",
    "df2['country'] = df2.apply(get_country_for_row, axis=1)\n",
    "\n",
    "# Display the DataFrame with country names\n",
    "display(df2[['latitude', 'longitude', 'country']])"
   ]
  },
  {
   "cell_type": "markdown",
   "id": "bdc1eda2",
   "metadata": {},
   "source": [
    "We find how many latitudes and longitudes do not map to a country. Answer: 3216 out of the 156251 entries."
   ]
  },
  {
   "cell_type": "code",
   "execution_count": 32,
   "id": "790a8684",
   "metadata": {},
   "outputs": [
    {
     "data": {
      "text/plain": [
       "(3216, 9)"
      ]
     },
     "execution_count": 32,
     "metadata": {},
     "output_type": "execute_result"
    }
   ],
   "source": [
    "print(df2[df2['country'].isna()].shape)\n",
    "print(df2.shape)"
   ]
  },
  {
   "cell_type": "markdown",
   "id": "3ee829f8",
   "metadata": {},
   "source": [
    "### Finding Representative Country Coordinates"
   ]
  },
  {
   "cell_type": "markdown",
   "id": "237a5525",
   "metadata": {},
   "source": [
    "We first define a function to get the center"
   ]
  },
  {
   "cell_type": "code",
   "execution_count": 48,
   "id": "575352cb",
   "metadata": {},
   "outputs": [
    {
     "name": "stdout",
     "output_type": "stream",
     "text": [
      "                      country  country_latitude  country_longitude\n",
      "0                        Fiji        -17.316309         163.853165\n",
      "1                    Tanzania         -6.257732          34.752990\n",
      "2                   W. Sahara         24.291173         -12.137831\n",
      "3                      Canada         61.469076         -98.142381\n",
      "4    United States of America         45.705628        -112.599436\n",
      "..                        ...               ...                ...\n",
      "172                    Serbia         44.233037          20.819652\n",
      "173                Montenegro         42.789040          19.286182\n",
      "174                    Kosovo         42.579367          20.895356\n",
      "175       Trinidad and Tobago         10.428237         -61.330367\n",
      "176                  S. Sudan          7.292890          30.198618\n",
      "\n",
      "[177 rows x 3 columns]\n"
     ]
    },
    {
     "name": "stderr",
     "output_type": "stream",
     "text": [
      "/tmp/ipykernel_534903/11587262.py:5: FutureWarning: The geopandas.dataset module is deprecated and will be removed in GeoPandas 1.0. You can get the original 'naturalearth_lowres' data from https://www.naturalearthdata.com/downloads/110m-cultural-vectors/.\n",
      "  gdf_countries = gpd.read_file(gpd.datasets.get_path('naturalearth_lowres'))\n"
     ]
    }
   ],
   "source": [
    "# Create a new DataFrame to store representative coordinates for each country\n",
    "df_representatives = pd.DataFrame(columns=['country', 'country_latitude', 'country_longitude'])\n",
    "\n",
    "# Function to get representative coordinates for each country\n",
    "def get_representative_coordinates(row):\n",
    "    country_name = row['name']\n",
    "    centroid = row['geometry'].centroid\n",
    "    representative_latitude, representative_longitude = centroid.y, centroid.x\n",
    "    return pd.Series([country_name, representative_latitude, representative_longitude],\n",
    "                     index=['country', 'country_latitude', 'country_longitude'])\n"
   ]
  },
  {
   "cell_type": "markdown",
   "id": "d758d431",
   "metadata": {},
   "source": [
    "We apply the function to eafch row in our newly created dataframe"
   ]
  },
  {
   "cell_type": "code",
   "execution_count": null,
   "id": "024825fe",
   "metadata": {},
   "outputs": [],
   "source": [
    "# Apply the function to each row in the GeoDataFrame\n",
    "df_representatives = gdf_countries.apply(get_representative_coordinates, axis=1)\n",
    "\n",
    "# Display the DataFrame with representative coordinates for each country\n",
    "display(df_representatives.head())"
   ]
  },
  {
   "cell_type": "markdown",
   "id": "8c96ecd4",
   "metadata": {},
   "source": [
    "We merge the newly created dataframe with country names and coordinate representations with the old dataframe."
   ]
  },
  {
   "cell_type": "code",
   "execution_count": 49,
   "id": "b933c745",
   "metadata": {},
   "outputs": [
    {
     "name": "stdout",
     "output_type": "stream",
     "text": [
      "                       @path  \\\n",
      "0       /0000-0003-1178-1001   \n",
      "1       /0000-0001-5974-7043   \n",
      "2       /0000-0003-2257-3080   \n",
      "3       /0000-0003-2257-3080   \n",
      "4       /0000-0001-9638-3082   \n",
      "...                      ...   \n",
      "156246  /0000-0002-0275-0927   \n",
      "156247  /0000-0002-0275-0927   \n",
      "156248  /0000-0002-0720-1927   \n",
      "156249  /0000-0003-2882-0927   \n",
      "156250  /0000-0003-2882-0927   \n",
      "\n",
      "                                                    title  \\\n",
      "0          Class of ghost-free non-Abelian gauge theories   \n",
      "1       Weak nonleptonic decays of charmed hadrons in ...   \n",
      "2       Target asymmetry in inclusive photoproduction ...   \n",
      "3          A space-time description of quarks and hadrons   \n",
      "4       Observation of spatial and temporal variations...   \n",
      "...                                                   ...   \n",
      "156246  Defect trajectories and domain-wall loop dynam...   \n",
      "156247  Direct observation of magnetic monopole defect...   \n",
      "156248  Shear veins observed within anisotropic fabric...   \n",
      "156249  A self-consistent approach to the hard and sof...   \n",
      "156250  A self-consistent approach to the reflection c...   \n",
      "\n",
      "                                                 abstract              author  \\\n",
      "0       We discuss a class of non-Abelian gauge theori...      Frenkel, Josif   \n",
      "1       We analyze the two-body weak nonleptonic decay...          Branco, G.   \n",
      "2       We study the target asymmetry in inclusive pio...      Craigie, N. S.   \n",
      "3       A more concrete formulation of the previously ...      Craigie, N. S.   \n",
      "4       Observations of X-ray bright points (XBP) over...           Golub, L.   \n",
      "...                                                   ...                 ...   \n",
      "156246  Bistable azimuthal nematic alignment textures ...           Ladak, S.   \n",
      "156247  Free monopoles have fascinated and eluded rese...           Ladak, S.   \n",
      "156248  Some faults seem to slip at unusually high ang...  Remitti, Francesca   \n",
      "156249  Context. High-resolution spectroscopy has rece...           Iaria, R.   \n",
      "156250  High-resolution spectroscopy has recently reve...           Iaria, R.   \n",
      "\n",
      "                                                      aff      block  \\\n",
      "0       Instituto de Fisica, Universidade de São Paulo...  j.frenkel   \n",
      "1       Department of Physics, The City College of the...   g.branco   \n",
      "2                               CERN, Geneva, Switzerland  n.craigie   \n",
      "3                               CERN, Geneva, Switzerland  n.craigie   \n",
      "4       American Science and Engineering, Inc., Cambri...    l.golub   \n",
      "...                                                   ...        ...   \n",
      "156246  School of Science and Technology, Nottingham T...    s.ladak   \n",
      "156247  Blackett Laboratory, Imperial College, Prince ...    s.ladak   \n",
      "156248  Dipartimento di Scienze della Terra, Universit...  f.remitti   \n",
      "156249  Dipartimento di Scienze Fisiche ed Astronomich...    r.iaria   \n",
      "156250  DSFA, Universitá di Palermo, via Archirafi n.3...    r.iaria   \n",
      "\n",
      "         latitude  longitude                   country  country_latitude  \\\n",
      "0      -23.559998 -46.735252                    Brazil        -10.806774   \n",
      "1       40.820047 -73.949272  United States of America         45.705628   \n",
      "2       46.204391   6.143158                    France         42.460704   \n",
      "3       46.204391   6.143158                    France         42.460704   \n",
      "4       42.524182 -71.254940  United States of America         45.705628   \n",
      "...           ...        ...                       ...               ...   \n",
      "156246  52.910397  -1.186524            United Kingdom         53.914773   \n",
      "156247  51.499592  -0.179312            United Kingdom         53.914773   \n",
      "156248  44.646675  10.924005                     Italy         42.751183   \n",
      "156249  38.117435  13.370031                      None               NaN   \n",
      "156250  38.110283  13.373395                      None               NaN   \n",
      "\n",
      "        country_longitude  \n",
      "0              -53.054340  \n",
      "1             -112.599436  \n",
      "2               -2.876697  \n",
      "3               -2.876697  \n",
      "4             -112.599436  \n",
      "...                   ...  \n",
      "156246          -2.853135  \n",
      "156247          -2.853135  \n",
      "156248          12.140788  \n",
      "156249                NaN  \n",
      "156250                NaN  \n",
      "\n",
      "[156251 rows x 11 columns]\n"
     ]
    }
   ],
   "source": [
    "df_merged = pd.merge(df2, df_representatives, on='country', how='left')"
   ]
  },
  {
   "cell_type": "markdown",
   "id": "021ad792",
   "metadata": {},
   "source": [
    "We remove remaining na values."
   ]
  },
  {
   "cell_type": "code",
   "execution_count": 55,
   "id": "9ff3c15f",
   "metadata": {},
   "outputs": [],
   "source": [
    "df_final = df_merged[df_merged[\"country_latitude\"].isna()==False]"
   ]
  },
  {
   "cell_type": "markdown",
   "id": "2a0eed7b",
   "metadata": {},
   "source": [
    "We check that the modification to the data frame was sucessful by seeing if country latitude and longitude is close to original latitude and longitude."
   ]
  },
  {
   "cell_type": "code",
   "execution_count": null,
   "id": "7befc141",
   "metadata": {},
   "outputs": [],
   "source": [
    "# Display the first 10 entries\n",
    "display(df_final.head(10))"
   ]
  },
  {
   "cell_type": "markdown",
   "id": "62d0f98d",
   "metadata": {},
   "source": [
    "# Convert Modified dataframe to hdf."
   ]
  },
  {
   "cell_type": "markdown",
   "id": "c1ff2198",
   "metadata": {},
   "source": [
    "Convert the final dataframe with dropped na values."
   ]
  },
  {
   "cell_type": "code",
   "execution_count": 58,
   "id": "851c596e",
   "metadata": {},
   "outputs": [],
   "source": [
    "output_filename = 'migration_dataset_with_countries_dropNA.h5'\n",
    "df_final.to_hdf(output_filename, key='data', mode='w')"
   ]
  },
  {
   "cell_type": "markdown",
   "id": "b4682da2",
   "metadata": {},
   "source": [
    "### If we want to keep the NA values, we can run this code instead."
   ]
  },
  {
   "cell_type": "code",
   "execution_count": null,
   "id": "f3156bf5",
   "metadata": {},
   "outputs": [],
   "source": [
    "output_filename = 'migration_dataset_with_countries.h5'\n",
    "df_merged.to_hdf(output_filename, key='data', mode='w')"
   ]
  }
 ],
 "metadata": {
  "kernelspec": {
   "display_name": "Python 3 (ipykernel)",
   "language": "python",
   "name": "python3"
  },
  "language_info": {
   "codemirror_mode": {
    "name": "ipython",
    "version": 3
   },
   "file_extension": ".py",
   "mimetype": "text/x-python",
   "name": "python",
   "nbconvert_exporter": "python",
   "pygments_lexer": "ipython3",
   "version": "3.11.0"
  }
 },
 "nbformat": 4,
 "nbformat_minor": 5
}
