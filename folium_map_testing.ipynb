{
 "cells": [
  {
   "cell_type": "code",
   "execution_count": 31,
   "id": "9ee1be6a",
   "metadata": {},
   "outputs": [],
   "source": [
    "%matplotlib notebook\n",
    "import pandas as pd\n",
    "import numpy as np\n",
    "import geopandas as gpd\n",
    "import folium\n",
    "import matplotlib.pyplot as plt\n",
    "from shapely.geometry import LineString\n",
    "from geopy.geocoders import Nominatim\n",
    "import re"
   ]
  },
  {
   "cell_type": "code",
   "execution_count": 2,
   "id": "d170583f",
   "metadata": {},
   "outputs": [],
   "source": [
    "df = pd.read_hdf('author_lat_long_firstbatch.h5')"
   ]
  },
  {
   "cell_type": "code",
   "execution_count": 3,
   "id": "1752b8f8",
   "metadata": {},
   "outputs": [],
   "source": [
    "latlong = df[df['longitude'].notna() & df['latitude'].notna()]"
   ]
  },
  {
   "cell_type": "code",
   "execution_count": 10,
   "id": "5ca6d0cc",
   "metadata": {},
   "outputs": [],
   "source": [
    "mymap = folium.Map(location=[latlong['latitude'].iloc[0], latlong['longitude'].iloc[0]], zoom_start=5)\n",
    "\n",
    "for researcher, group in latlong.groupby('@path'):\n",
    "    folium.PolyLine(locations=group[['latitude', 'longitude']].values.tolist(), color='blue', weight=2.5, opacity=1).add_to(mymap)"
   ]
  },
  {
   "cell_type": "code",
   "execution_count": 11,
   "id": "54f93e36",
   "metadata": {},
   "outputs": [],
   "source": [
    "mymap.save('migration_map.html')"
   ]
  },
  {
   "cell_type": "markdown",
   "id": "f30a0574",
   "metadata": {},
   "source": [
    "-----"
   ]
  }
 ],
 "metadata": {
  "kernelspec": {
   "display_name": "deepthought",
   "language": "python",
   "name": "deepthought"
  },
  "language_info": {
   "codemirror_mode": {
    "name": "ipython",
    "version": 3
   },
   "file_extension": ".py",
   "mimetype": "text/x-python",
   "name": "python",
   "nbconvert_exporter": "python",
   "pygments_lexer": "ipython3",
   "version": "3.9.18"
  }
 },
 "nbformat": 4,
 "nbformat_minor": 5
}
